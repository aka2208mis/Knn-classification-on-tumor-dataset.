{
 "cells": [
  {
   "cell_type": "code",
   "execution_count": 2,
   "id": "fb2f238c",
   "metadata": {},
   "outputs": [],
   "source": [
    "import pandas as pd\n",
    "import numpy as np\n",
    "from sklearn.neighbors import KNeighborsClassifier\n",
    "from sklearn.model_selection import train_test_split\n",
    "from sklearn import metrics\n",
    "from sklearn.metrics import classification_report, accuracy_score, f1_score, confusion_matrix, precision_recall_fscore_support, precision_score, recall_score\n",
    "import matplotlib.pyplot as plt\n",
    "import seaborn as sns\n",
    "%matplotlib inline"
   ]
  },
  {
   "cell_type": "code",
   "execution_count": 3,
   "id": "31532fdf",
   "metadata": {},
   "outputs": [],
   "source": [
    "rs = 125"
   ]
  },
  {
   "cell_type": "code",
   "execution_count": 4,
   "id": "dc7c1215",
   "metadata": {},
   "outputs": [],
   "source": [
    "# Ignore any deprecation warnings\n",
    "import warnings\n",
    "warnings.filterwarnings(\"ignore\", category=DeprecationWarning) "
   ]
  },
  {
   "cell_type": "code",
   "execution_count": 5,
   "id": "ccd750d5",
   "metadata": {},
   "outputs": [
    {
     "data": {
      "text/html": [
       "<div>\n",
       "<style scoped>\n",
       "    .dataframe tbody tr th:only-of-type {\n",
       "        vertical-align: middle;\n",
       "    }\n",
       "\n",
       "    .dataframe tbody tr th {\n",
       "        vertical-align: top;\n",
       "    }\n",
       "\n",
       "    .dataframe thead th {\n",
       "        text-align: right;\n",
       "    }\n",
       "</style>\n",
       "<table border=\"1\" class=\"dataframe\">\n",
       "  <thead>\n",
       "    <tr style=\"text-align: right;\">\n",
       "      <th></th>\n",
       "      <th>leukocyte_count</th>\n",
       "      <th>blood_pressure</th>\n",
       "      <th>tumor_class</th>\n",
       "    </tr>\n",
       "  </thead>\n",
       "  <tbody>\n",
       "    <tr>\n",
       "      <th>0</th>\n",
       "      <td>13.472969</td>\n",
       "      <td>15.250393</td>\n",
       "      <td>malignant</td>\n",
       "    </tr>\n",
       "    <tr>\n",
       "      <th>1</th>\n",
       "      <td>10.805510</td>\n",
       "      <td>14.109676</td>\n",
       "      <td>malignant</td>\n",
       "    </tr>\n",
       "    <tr>\n",
       "      <th>2</th>\n",
       "      <td>13.834053</td>\n",
       "      <td>15.793920</td>\n",
       "      <td>malignant</td>\n",
       "    </tr>\n",
       "    <tr>\n",
       "      <th>3</th>\n",
       "      <td>9.572811</td>\n",
       "      <td>17.873286</td>\n",
       "      <td>malignant</td>\n",
       "    </tr>\n",
       "    <tr>\n",
       "      <th>4</th>\n",
       "      <td>7.633667</td>\n",
       "      <td>16.598559</td>\n",
       "      <td>malignant</td>\n",
       "    </tr>\n",
       "  </tbody>\n",
       "</table>\n",
       "</div>"
      ],
      "text/plain": [
       "   leukocyte_count  blood_pressure tumor_class\n",
       "0        13.472969       15.250393   malignant\n",
       "1        10.805510       14.109676   malignant\n",
       "2        13.834053       15.793920   malignant\n",
       "3         9.572811       17.873286   malignant\n",
       "4         7.633667       16.598559   malignant"
      ]
     },
     "execution_count": 5,
     "metadata": {},
     "output_type": "execute_result"
    }
   ],
   "source": [
    "tumor_df = pd.read_csv(\"tumors.csv\")\n",
    "tumor_df.head(5)"
   ]
  },
  {
   "cell_type": "code",
   "execution_count": 6,
   "id": "6fffae6a",
   "metadata": {},
   "outputs": [
    {
     "data": {
      "text/plain": [
       "Index(['leukocyte_count', 'blood_pressure', 'tumor_class'], dtype='object')"
      ]
     },
     "execution_count": 6,
     "metadata": {},
     "output_type": "execute_result"
    }
   ],
   "source": [
    "tumor_df.columns"
   ]
  },
  {
   "cell_type": "code",
   "execution_count": 7,
   "id": "f455b75f",
   "metadata": {},
   "outputs": [],
   "source": [
    "X = tumor_df.iloc[:, :-1]\n",
    "y = tumor_df.iloc[:, -1:]"
   ]
  },
  {
   "cell_type": "code",
   "execution_count": 8,
   "id": "e6e0656d",
   "metadata": {},
   "outputs": [
    {
     "data": {
      "text/html": [
       "<div>\n",
       "<style scoped>\n",
       "    .dataframe tbody tr th:only-of-type {\n",
       "        vertical-align: middle;\n",
       "    }\n",
       "\n",
       "    .dataframe tbody tr th {\n",
       "        vertical-align: top;\n",
       "    }\n",
       "\n",
       "    .dataframe thead th {\n",
       "        text-align: right;\n",
       "    }\n",
       "</style>\n",
       "<table border=\"1\" class=\"dataframe\">\n",
       "  <thead>\n",
       "    <tr style=\"text-align: right;\">\n",
       "      <th></th>\n",
       "      <th>leukocyte_count</th>\n",
       "      <th>blood_pressure</th>\n",
       "    </tr>\n",
       "  </thead>\n",
       "  <tbody>\n",
       "    <tr>\n",
       "      <th>count</th>\n",
       "      <td>1000.000000</td>\n",
       "      <td>1000.000000</td>\n",
       "    </tr>\n",
       "    <tr>\n",
       "      <th>mean</th>\n",
       "      <td>14.951821</td>\n",
       "      <td>15.346599</td>\n",
       "    </tr>\n",
       "    <tr>\n",
       "      <th>std</th>\n",
       "      <td>2.945563</td>\n",
       "      <td>1.085929</td>\n",
       "    </tr>\n",
       "    <tr>\n",
       "      <th>min</th>\n",
       "      <td>4.201801</td>\n",
       "      <td>11.736217</td>\n",
       "    </tr>\n",
       "    <tr>\n",
       "      <th>25%</th>\n",
       "      <td>12.944757</td>\n",
       "      <td>14.623807</td>\n",
       "    </tr>\n",
       "    <tr>\n",
       "      <th>50%</th>\n",
       "      <td>14.953817</td>\n",
       "      <td>15.331944</td>\n",
       "    </tr>\n",
       "    <tr>\n",
       "      <th>75%</th>\n",
       "      <td>16.984188</td>\n",
       "      <td>16.054340</td>\n",
       "    </tr>\n",
       "    <tr>\n",
       "      <th>max</th>\n",
       "      <td>23.796870</td>\n",
       "      <td>18.370500</td>\n",
       "    </tr>\n",
       "  </tbody>\n",
       "</table>\n",
       "</div>"
      ],
      "text/plain": [
       "       leukocyte_count  blood_pressure\n",
       "count      1000.000000     1000.000000\n",
       "mean         14.951821       15.346599\n",
       "std           2.945563        1.085929\n",
       "min           4.201801       11.736217\n",
       "25%          12.944757       14.623807\n",
       "50%          14.953817       15.331944\n",
       "75%          16.984188       16.054340\n",
       "max          23.796870       18.370500"
      ]
     },
     "execution_count": 8,
     "metadata": {},
     "output_type": "execute_result"
    }
   ],
   "source": [
    "X.describe()"
   ]
  },
  {
   "cell_type": "code",
   "execution_count": 9,
   "id": "c9929281",
   "metadata": {},
   "outputs": [
    {
     "data": {
      "text/plain": [
       "tumor_class\n",
       "malignant      0.611\n",
       "benign         0.389\n",
       "dtype: float64"
      ]
     },
     "execution_count": 9,
     "metadata": {},
     "output_type": "execute_result"
    }
   ],
   "source": [
    "y.value_counts(normalize = True)"
   ]
  },
  {
   "cell_type": "code",
   "execution_count": 10,
   "id": "7d1bc59b",
   "metadata": {},
   "outputs": [
    {
     "data": {
      "text/plain": [
       "<AxesSubplot:xlabel='tumor_class'>"
      ]
     },
     "execution_count": 10,
     "metadata": {},
     "output_type": "execute_result"
    },
    {
     "data": {
      "image/png": "[encoded data removed]",
      "text/plain": [
       "<Figure size 432x288 with 1 Axes>"
      ]
     },
     "metadata": {
      "needs_background": "light"
     },
     "output_type": "display_data"
    }
   ],
   "source": [
    "y.value_counts().plot.bar(color=['green', 'red'])"
   ]
  },
  {
   "cell_type": "markdown",
   "id": "f4ac1595",
   "metadata": {},
   "source": [
    "We have about 65% benign tumors (`Class = 0`) and 35% cancerous tumors (`Class = 1`), which is not a very imbalanced class distribution."
   ]
  },
  {
   "cell_type": "markdown",
   "id": "12618491",
   "metadata": {},
   "source": [
    "## Split training and testing datasets"
   ]
  },
  {
   "cell_type": "code",
   "execution_count": 11,
   "id": "b3d8ffa0",
   "metadata": {},
   "outputs": [],
   "source": [
    "X_train, X_test, y_train, y_test = train_test_split(X, y, test_size=0.2, stratify=y, random_state=rs)"
   ]
  },
  {
   "cell_type": "markdown",
   "id": "493141b2",
   "metadata": {},
   "source": [
    "## Train and evaluate a KNN classifier with the number of neighbors set to 2\n"
   ]
  },
  {
   "cell_type": "code",
   "execution_count": 12,
   "id": "c8a4e529",
   "metadata": {},
   "outputs": [],
   "source": [
    "knn_model = KNeighborsClassifier(n_neighbors=2)"
   ]
  },
  {
   "cell_type": "code",
   "execution_count": 13,
   "id": "8ac2c4dd",
   "metadata": {},
   "outputs": [
    {
     "data": {
      "text/plain": [
       "KNeighborsClassifier(n_neighbors=2)"
      ]
     },
     "execution_count": 13,
     "metadata": {},
     "output_type": "execute_result"
    }
   ],
   "source": [
    "#.ravel() flattens the array to ensure it is a 1-dimensional array.\n",
    "knn_model.fit(X_train, y_train.values.ravel())"
   ]
  },
  {
   "cell_type": "code",
   "execution_count": 21,
   "id": "c43f5abe",
   "metadata": {},
   "outputs": [
    {
     "data": {
      "text/plain": [
       "{'accuracy': 0.99,\n",
       " 'recall': 0.989491382934006,\n",
       " 'precision': 0.989491382934006,\n",
       " 'f1score': 0.989491382934006}"
      ]
     },
     "execution_count": 21,
     "metadata": {},
     "output_type": "execute_result"
    }
   ],
   "source": [
    "from sklearn.metrics import accuracy_score, precision_recall_fscore_support\n",
    "\n",
    "def evaluate_metrics(yt, yp):\n",
    "    results_pos = {}\n",
    "    results_pos['accuracy'] = accuracy_score(yt, yp)\n",
    "    precision, recall, f_beta, _ = precision_recall_fscore_support(yt, yp, average='macro')\n",
    "    results_pos['recall'] = recall\n",
    "    results_pos['precision'] = precision\n",
    "    results_pos['f1score'] = f_beta\n",
    "    return results_pos\n",
    "\n",
    "# Assuming y_test and preds are defined\n",
    "evaluate_metrics(y_test, preds)\n"
   ]
  },
  {
   "cell_type": "markdown",
   "id": "3654d222",
   "metadata": {},
   "source": [
    "## Coding exercise: Train and evaluate a KNN classifier with number of neighbors set to 5\n"
   ]
  },
  {
   "cell_type": "code",
   "execution_count": 26,
   "id": "a7f98085",
   "metadata": {},
   "outputs": [
    {
     "data": {
      "text/plain": [
       "{'accuracy': 0.98,\n",
       " 'recall': 0.9789827658680117,\n",
       " 'precision': 0.9789827658680117,\n",
       " 'f1score': 0.9789827658680117}"
      ]
     },
     "execution_count": 26,
     "metadata": {},
     "output_type": "execute_result"
    }
   ],
   "source": [
    "model = KNeighborsClassifier(n_neighbors=5)\n",
    "model.fit(X_train, y_train.values.ravel())\n",
    "preds = model.predict(X_test)\n",
    "evaluate_metrics(y_test, preds)"
   ]
  },
  {
   "cell_type": "markdown",
   "id": "0792f234",
   "metadata": {},
   "source": [
    "## Tune the number of neighbors to find the optmized one\n"
   ]
  },
  {
   "cell_type": "markdown",
   "id": "38226762",
   "metadata": {},
   "source": [
    "OK, you may wonder which n_neighbors argument may give you the best classification performance. We can try different n_neighbors (the K value) and check which K gives the best classification performance.\n",
    "\n",
    "Here we could try K from 1 to 50, and store the aggregated f1score for each k into a list."
   ]
  },
  {
   "cell_type": "code",
   "execution_count": 31,
   "id": "54145d4c",
   "metadata": {},
   "outputs": [],
   "source": [
    "# Try K from 1 to 50\n",
    "max_k = 50\n",
    "# Create an empty list to store f1score for each k\n",
    "f1_scores = []"
   ]
  },
  {
   "cell_type": "markdown",
   "id": "7c56e002",
   "metadata": {},
   "source": [
    "Then we will train 50 KNN classifiers with K ranged from 1 to 50"
   ]
  },
  {
   "cell_type": "code",
   "execution_count": 33,
   "id": "81d6c127",
   "metadata": {},
   "outputs": [
    {
     "name": "stdout",
     "output_type": "stream",
     "text": [
      "    F1 Score\n",
      "K           \n",
      "1     0.9789\n",
      "2     0.9895\n",
      "3     0.9842\n",
      "4     0.9790\n",
      "5     0.9790\n",
      "6     0.9790\n",
      "7     0.9790\n",
      "8     0.9843\n",
      "9     0.9843\n",
      "10    0.9843\n",
      "11    0.9843\n",
      "12    0.9843\n",
      "13    0.9843\n",
      "14    0.9895\n",
      "15    0.9895\n",
      "16    0.9895\n",
      "17    0.9895\n",
      "18    0.9895\n",
      "19    0.9895\n",
      "20    0.9895\n",
      "21    0.9895\n",
      "22    0.9895\n",
      "23    0.9895\n",
      "24    0.9895\n",
      "25    0.9895\n",
      "26    0.9895\n",
      "27    0.9895\n",
      "28    0.9895\n",
      "29    0.9895\n",
      "30    0.9895\n",
      "31    0.9895\n",
      "32    0.9895\n",
      "33    0.9843\n",
      "34    0.9843\n",
      "35    0.9843\n",
      "36    0.9791\n",
      "37    0.9843\n",
      "38    0.9843\n",
      "39    0.9843\n",
      "40    0.9895\n",
      "41    0.9895\n",
      "42    0.9895\n",
      "43    0.9843\n",
      "44    0.9843\n",
      "45    0.9843\n",
      "46    0.9843\n",
      "47    0.9843\n",
      "48    0.9843\n",
      "49    0.9843\n",
      "50    0.9843\n"
     ]
    }
   ],
   "source": [
    "from sklearn.neighbors import KNeighborsClassifier\n",
    "from sklearn.metrics import f1_score\n",
    "import pandas as pd\n",
    "\n",
    "# Initialize an empty list to store the f1 scores\n",
    "f1_scores = []\n",
    "\n",
    "# Loop through values of k from 1 to max_k\n",
    "max_k = 50  # Example value; replace with the desired max_k\n",
    "for k in range(1, max_k + 1):\n",
    "    # Create a KNN classifier\n",
    "    knn = KNeighborsClassifier(n_neighbors=k)\n",
    "    # Train the classifier\n",
    "    knn.fit(X_train, y_train.values.ravel())\n",
    "    # Predict the labels for the test set\n",
    "    preds = knn.predict(X_test)\n",
    "    # Evaluate the classifier with f1_score\n",
    "    f1 = f1_score(y_test, preds, average='macro')  # Use 'macro' or 'micro'\n",
    "    f1_scores.append((k, round(f1, 4)))\n",
    "\n",
    "# Convert the f1_scores list to a dataframe\n",
    "f1_results = pd.DataFrame(f1_scores, columns=['K', 'F1 Score'])\n",
    "f1_results.set_index('K', inplace=True)\n",
    "\n",
    "# Display the f1_results DataFrame\n",
    "print(f1_results)\n"
   ]
  },
  {
   "cell_type": "code",
   "execution_count": 34,
   "id": "b3d39435",
   "metadata": {},
   "outputs": [
    {
     "data": {
      "text/plain": [
       "Text(0.5, 1.0, 'KNN F1 Score')"
      ]
     },
     "execution_count": 34,
     "metadata": {},
     "output_type": "execute_result"
    },
    {
     "data": {
      "image/png": "[encoded data removed]",
      "text/plain": [
       "<Figure size 864x864 with 1 Axes>"
      ]
     },
     "metadata": {
      "needs_background": "light"
     },
     "output_type": "display_data"
    }
   ],
   "source": [
    "# Plot F1 results\n",
    "ax = f1_results.plot(figsize=(12, 12))\n",
    "ax.set(xlabel='Num of Neighbors', ylabel='F1 Score')\n",
    "ax.set_xticks(range(1, max_k, 2));\n",
    "plt.ylim((0.85, 1))\n",
    "plt.title('KNN F1 Score')"
   ]
  },
  {
   "cell_type": "code",
   "execution_count": null,
   "id": "19230b50",
   "metadata": {},
   "outputs": [],
   "source": []
  }
 ],
 "metadata": {
  "kernelspec": {
   "display_name": "Python 3 (ipykernel)",
   "language": "python",
   "name": "python3"
  },
  "language_info": {
   "codemirror_mode": {
    "name": "ipython",
    "version": 3
   },
   "file_extension": ".py",
   "mimetype": "text/x-python",
   "name": "python",
   "nbconvert_exporter": "python",
   "pygments_lexer": "ipython3",
   "version": "3.9.7"
  }
 },
 "nbformat": 4,
 "nbformat_minor": 5
}
